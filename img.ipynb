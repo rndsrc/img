{
 "cells": [
  {
   "attachments": {},
   "cell_type": "markdown",
   "id": "d4c5af77-ac6a-434a-82ad-9cff1d36df36",
   "metadata": {},
   "source": [
    "# Interferometry Image Reconstruction\n",
    "\n",
    "This notebook provides a minimal image reconstruction algorithm for interferometry.\n",
    "\n",
    "Let $I(\\alpha, \\beta)$ be an image on the sky.\n",
    "Interferometry allows astronomer to sample the Fourier transform of the image $\\hat{I}(u, v) = \\int\\int I(\\alpha,\\beta) \\exp[-2\\pi i(u\\alpha + v\\beta)] d\\alpha d\\beta$ along the $uv$-tracks $[u_{ab}(t), v_{ab}(t)]$ for telescopes $a$ and $b$ at time $t$.\n",
    "\n",
    "Given a small number of telescope locations, we have a sparse set of $uv$ tracks, which sample the Fourier transform of the image.\n",
    "We call these sampled Fourier coefficients the visibility $V_{abj} = \\hat{I}(u_{ab}(t_n), v_{ab}(t_n))$ for all $a$, $b$, and $n$.\n",
    "\n",
    "The problem of interferometry image reconstruction is to receover the original sky image $I(\\alpha, \\beta)$ to the best we can, based on the visibility $\\{V_{abj}\\}$.\n",
    "\n",
    "We will develop a minimal image reconstruction algorithm in this notebook.\n",
    "To make the algorithm easier to understand, we will build it incrementally.\n",
    "We start by importing some useful packages.\n",
    "In addition to the standard packages, `ehtplot` provides modified `afmhot` colormaps including `afmhot_us`, `afmhot_10us`, etc."
   ]
  },
  {
   "cell_type": "code",
   "execution_count": 1,
   "id": "f45d8e9b-b474-41c7-9ec3-d9c04743430d",
   "metadata": {},
   "outputs": [],
   "source": [
    "import numpy as np\n",
    "import pandas as pd\n",
    "\n",
    "from astropy    import units\n",
    "from astropy.io import fits\n",
    "\n",
    "import ehtplot # from https://github.com/liamedeiros/ehtplot\n",
    "from matplotlib import pyplot as plt"
   ]
  },
  {
   "cell_type": "markdown",
   "id": "13bfe29a-36fb-4af2-a9bd-820419fa3070",
   "metadata": {},
   "source": [
    "## Sample Data: EHT 2017 M87*\n",
    "\n",
    "We start by look at a sample data set from EHT's 2017 observation.\n",
    "The (heavily) averaged data is provided in a simple CSV file."
   ]
  },
  {
   "cell_type": "code",
   "execution_count": 2,
   "id": "70c38638-3fbe-466c-b537-56e67825b54a",
   "metadata": {},
   "outputs": [],
   "source": [
    "df = pd.read_csv(\n",
    "    \"vis/SR1_M87_2017_095_hi_hops_netcal_StokesI.csv\",\n",
    "    skiprows=2,\n",
    "    names=['t', 's1', 's2', 'u', 'v', 'amp', 'phase', 'sigma'])"
   ]
  },
  {
   "cell_type": "markdown",
   "id": "95924b79-b878-4c3b-8f7c-3c29ce5ff24c",
   "metadata": {},
   "source": [
    "We also compute the complex visbility and the \"weight\"."
   ]
  },
  {
   "cell_type": "code",
   "execution_count": null,
   "id": "f5ade305-cdef-46c8-82e0-bfeb00376cb6",
   "metadata": {},
   "outputs": [],
   "source": []
  },
  {
   "cell_type": "code",
   "execution_count": 3,
   "id": "5714afb8-682b-4820-a639-b721754697f2",
   "metadata": {},
   "outputs": [
    {
     "data": {
      "text/plain": [
       "0      -0.006917-0.012507j\n",
       "1       0.136019+0.013969j\n",
       "2       0.591577+0.950759j\n",
       "3      -0.013640-0.012420j\n",
       "4       0.075689-0.117322j\n",
       "               ...        \n",
       "6453    0.310243+0.059955j\n",
       "6454    0.040855+0.042377j\n",
       "6455   -0.108554-0.002454j\n",
       "6456    0.977469-0.554353j\n",
       "6457   -0.012231+0.104216j\n",
       "Name: V, Length: 6458, dtype: complex128"
      ]
     },
     "metadata": {},
     "output_type": "display_data"
    },
    {
     "data": {
      "text/plain": [
       "0       171.033435\n",
       "1       201.306479\n",
       "2       190.730862\n",
       "3        22.433737\n",
       "4        30.683656\n",
       "           ...    \n",
       "6453     32.841596\n",
       "6454     11.075692\n",
       "6455     22.745490\n",
       "6456     10.884912\n",
       "6457     34.742742\n",
       "Name: w, Length: 6458, dtype: float64"
      ]
     },
     "metadata": {},
     "output_type": "display_data"
    }
   ],
   "source": [
    "df['V'] = df.amp * np.exp(1j * (df.phase * np.pi / 180))\n",
    "df['w'] = 1.0 / df.sigma\n",
    "\n",
    "display(df.V)\n",
    "display(df.w)"
   ]
  },
  {
   "cell_type": "code",
   "execution_count": null,
   "id": "1d0c4c4c-39a1-43dd-84b4-900443782a0b",
   "metadata": {},
   "outputs": [],
   "source": []
  }
 ],
 "metadata": {
  "kernelspec": {
   "display_name": "Python 3 (ipykernel)",
   "language": "python",
   "name": "python3"
  },
  "language_info": {
   "codemirror_mode": {
    "name": "ipython",
    "version": 3
   },
   "file_extension": ".py",
   "mimetype": "text/x-python",
   "name": "python",
   "nbconvert_exporter": "python",
   "pygments_lexer": "ipython3",
   "version": "3.11.8"
  }
 },
 "nbformat": 4,
 "nbformat_minor": 5
}
