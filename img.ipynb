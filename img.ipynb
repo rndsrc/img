{
 "cells": [
  {
   "attachments": {},
   "cell_type": "markdown",
   "id": "d4c5af77-ac6a-434a-82ad-9cff1d36df36",
   "metadata": {},
   "source": [
    "# Interferometry Image Reconstruction\n",
    "\n",
    "This notebook provides a minimal image reconstruction algorithm for interferometry.\n",
    "\n",
    "Let $I(\\alpha, \\beta)$ be an image on the sky.\n",
    "Interferometry allows astronomer to sample the Fourier transform of the image $\\hat{I}(u, v) = \\int\\int I(\\alpha,\\beta) \\exp[-2\\pi i(u\\alpha + v\\beta)] d\\alpha d\\beta$ along the $uv$-tracks $[u_{ab}(t), v_{ab}(t)]$ for telescopes $a$ and $b$ at time $t$.\n",
    "\n",
    "Given a small number of telescope locations, we have a sparse set of $uv$ tracks, which sample the Fourier transform of the image.\n",
    "We call these sampled Fourier coefficients the visibility $V_{abj} = \\hat{I}(u_{ab}(t_n), v_{ab}(t_n)$ for all $a$, $b$, and $n$.\n",
    "\n",
    "The problem of interferometry image reconstruction is to receover the original sky image $I(\\alpha, \\beta)$ to the best we can, based on the visibility $\\{V_{abj}\\}$."
   ]
  }
 ],
 "metadata": {
  "kernelspec": {
   "display_name": "Python 3 (ipykernel)",
   "language": "python",
   "name": "python3"
  },
  "language_info": {
   "codemirror_mode": {
    "name": "ipython",
    "version": 3
   },
   "file_extension": ".py",
   "mimetype": "text/x-python",
   "name": "python",
   "nbconvert_exporter": "python",
   "pygments_lexer": "ipython3",
   "version": "3.11.8"
  }
 },
 "nbformat": 4,
 "nbformat_minor": 5
}
